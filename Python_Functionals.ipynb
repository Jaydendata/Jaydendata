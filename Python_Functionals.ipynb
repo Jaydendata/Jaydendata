{
 "cells": [
  {
   "cell_type": "markdown",
   "id": "5fa497db",
   "metadata": {},
   "source": [
    "# <span style=\"color:#e2c382;\">Retrieve Variables</span>"
   ]
  },
  {
   "cell_type": "code",
   "execution_count": 1,
   "id": "a2867553",
   "metadata": {},
   "outputs": [
    {
     "name": "stdout",
     "output_type": "stream",
     "text": [
      "Stored variables and their in-db values:\n",
      "a                      -> [1, 2, 34, 4, 5, 2, 1, 3, 1, 2, 6, 7, 7, 8, 3, 8, \n",
      "abdict1                -> {'a': 1, 'b': 2, 'c': 3, 'd': 4, 'e': 5}\n",
      "abdict2                -> {'d': 4, 'e': 5}\n",
      "alien                  -> {'color': 'green', 'points': 5, 'speed': 'slow'}\n",
      "alist                  -> ['a', 'b', 'c', 'd', 'e']\n",
      "alist2                 -> [1, 2, 34, 4, 5, 2, 1, 3, 1, 2, 6, 7, 7, 8, 3, 8, \n",
      "blist                  -> [1, 2, 3, 4, 5]\n",
      "countlist              -> ['1', '3', '4', '5', '6', '1', '1', '2', '2', '3',\n",
      "dict1                  -> {'a': 1, 'b': 2, 'c': 3, 'd': 4}\n",
      "dict2                  -> {8: 'g', 6: 'f', 5: 'e', 4: 'd', 2: 'c', 1: 'b', 0\n",
      "dict3                  -> {'even_nums': [2, 4, 6, 8, 10], 'odd_nums': [1, 3,\n",
      "friends                -> ['phil', 'sarah']\n",
      "list1                  -> [1, 2, 3, 5, 6, 7, 9]\n",
      "list1_copy             -> [8, 6, 5, 4, 2, 1, 0]\n",
      "list2                  -> []\n",
      "list3                  -> ['g', 'f', 'e', 'd', 'c', 'b', 'a']\n",
      "list_names             -> [{'first_name': 'Jayden', 'last_name': 'LI', 'titl\n",
      "message1               -> 'Hello World , ha,ha,ha,ha ha ha!'\n",
      "set1                   -> {1, 2, 3}\n",
      "set2                   -> {3, 4, 5}\n",
      "string1                -> 'abcdefg'\n",
      "string2                -> 'Hello World '\n",
      "string4                -> 'ha ha ha ha ha ha'\n",
      "string5                -> 'ha,ha,ha,ha ha ha'\n",
      "string6                -> ''\n",
      "tuple1                 -> (10, 20)\n"
     ]
    }
   ],
   "source": [
    "%store -r abdict1\n",
    "%store -r abdict2\n",
    "%store -r dict1\n",
    "%store -r dict2\n",
    "%store -r dict3\n",
    "%store -r a\n",
    "%store -r alist\n",
    "%store -r alist2\n",
    "%store -r alien\n",
    "%store -r blist\n",
    "%store -r countlist\n",
    "%store -r friends\n",
    "%store -r list1\n",
    "%store -r list1_copy\n",
    "%store -r list2\n",
    "%store -r list3\n",
    "%store -r list_names\n",
    "%store -r set1\n",
    "%store -r set2\n",
    "%store -r message1\n",
    "%store -r string1\n",
    "%store -r string2\n",
    "%store -r string2\n",
    "%store -r string4\n",
    "%store -r string5\n",
    "%store -r string6\n",
    "%store -r tuple1\n",
    "%store "
   ]
  },
  {
   "cell_type": "markdown",
   "id": "2a1eb58d",
   "metadata": {},
   "source": [
    "# <span style=\"color:#e2c382;\">IF Statement</span>"
   ]
  },
  {
   "cell_type": "code",
   "execution_count": 2,
   "id": "c7e2cf80",
   "metadata": {},
   "outputs": [
    {
     "name": "stdout",
     "output_type": "stream",
     "text": [
      "We have a tie!\n"
     ]
    }
   ],
   "source": [
    "# Example\n",
    "player1_score = 1\n",
    "player2_score = 1\n",
    "\n",
    "if player1_score == player2_score:\n",
    "    print('We have a tie!')\n",
    "elif player1_score > player2_score:\n",
    "    print(\"player one won!\")\n",
    "else:\n",
    "    print(\"player two won!\")"
   ]
  },
  {
   "cell_type": "markdown",
   "id": "5dfaebd2",
   "metadata": {},
   "source": [
    "### <span style=\"color:#E2C382;\">*# match-case statement*</span>"
   ]
  },
  {
   "cell_type": "code",
   "execution_count": 3,
   "id": "013791ec",
   "metadata": {},
   "outputs": [
    {
     "data": {
      "text/plain": [
       "'response_code = 404\\n\\nmatch response_code:\\n    case 400:\\n        print(\"Server can\\'t understand.\")\\n    case 401 | 403:\\n        print(\"Server refused to send back.\")\\n    case 404:\\n        print(\"Server can\\'t find.\")'"
      ]
     },
     "execution_count": 3,
     "metadata": {},
     "output_type": "execute_result"
    }
   ],
   "source": [
    "# ONLY FOR Python over 3.10\n",
    "# Combining cases in Python match-case statements (Python 3.10)\n",
    "'''response_code = 404\n",
    "\n",
    "match response_code:\n",
    "    case 400:\n",
    "        print(\"Server can't understand.\")\n",
    "    case 401 | 403:\n",
    "        print(\"Server refused to send back.\")\n",
    "    case 404:\n",
    "        print(\"Server can't find.\")'''\n",
    "\n",
    "# Returns:\n",
    "# Server can't find."
   ]
  },
  {
   "cell_type": "markdown",
   "id": "c3faf2f3",
   "metadata": {},
   "source": [
    "# <span style=\"color:#e2c382;\">LOOPs</span>"
   ]
  },
  {
   "cell_type": "code",
   "execution_count": 4,
   "id": "0f63ecd8",
   "metadata": {},
   "outputs": [
    {
     "name": "stdout",
     "output_type": "stream",
     "text": [
      "1\n",
      "2\n",
      "3\n",
      "4\n",
      "5\n",
      "6\n",
      "7\n",
      "8\n",
      "9\n",
      "10\n"
     ]
    }
   ],
   "source": [
    "# While loop:\n",
    "\n",
    "number = 0\n",
    "while number < 10:\n",
    "    number += 1\n",
    "    print(number) \n"
   ]
  },
  {
   "cell_type": "code",
   "execution_count": 5,
   "id": "5439fe1b",
   "metadata": {},
   "outputs": [
    {
     "name": "stdout",
     "output_type": "stream",
     "text": [
      "[2, 4, 6, 8, 10]\n",
      "[2, 4, 6, 8, 10]\n"
     ]
    }
   ],
   "source": [
    "# For loop to create even numbers:\n",
    "\n",
    "numbers = [1,2,3,4,5]\n",
    "\n",
    "even_numbers = [num*2 for num in numbers]\n",
    "print(even_numbers)\n",
    "\n",
    "# Simplified version - using list comprehension\n",
    "new_numbers = [number*2 for number in numbers]\n",
    "print(new_numbers)"
   ]
  },
  {
   "cell_type": "markdown",
   "id": "53fc7ae0",
   "metadata": {},
   "source": [
    "# <span style=\"color:#e2c382;\">Functions</span>"
   ]
  },
  {
   "cell_type": "markdown",
   "id": "dab72cc2",
   "metadata": {},
   "source": [
    "### <span style=\"color:#E2C382;\">*# def*</span>"
   ]
  },
  {
   "cell_type": "code",
   "execution_count": 6,
   "id": "5595db6d",
   "metadata": {},
   "outputs": [
    {
     "name": "stdout",
     "output_type": "stream",
     "text": [
      "Welcome!\n"
     ]
    }
   ],
   "source": [
    "# Basic structure\n",
    "def greeting():\n",
    "    print('Welcome!')\n",
    "\n",
    "greeting()"
   ]
  },
  {
   "cell_type": "code",
   "execution_count": 7,
   "id": "85ca01de",
   "metadata": {},
   "outputs": [
    {
     "data": {
      "text/plain": [
       "'\\nprint(\\n    get_total_price(\\n        float(input(\\n            (\"What is the list price?\"))),\\n        float(input(\\n            (\"What is the tax rate?\"))),\\n    )\\n)\\n'"
      ]
     },
     "execution_count": 7,
     "metadata": {},
     "output_type": "execute_result"
    }
   ],
   "source": [
    "# Calcuation\n",
    "def get_total_price (list_price, tax_rate):\n",
    "    total_price = list_price * (1 + tax_rate)\n",
    "    return total_price\n",
    "'''\n",
    "print(\n",
    "    get_total_price(\n",
    "        float(input(\n",
    "            (\"What is the list price?\"))),\n",
    "        float(input(\n",
    "            (\"What is the tax rate?\"))),\n",
    "    )\n",
    ")\n",
    "'''"
   ]
  },
  {
   "cell_type": "code",
   "execution_count": 8,
   "id": "7d846187",
   "metadata": {},
   "outputs": [
    {
     "data": {
      "text/plain": [
       "'\\nprint(ad_num(\\n    float(input(\"Enter a number: \")),\\n    float(input(\"Enter a second number: \")),\\n    )\\n)\\n'"
      ]
     },
     "execution_count": 8,
     "metadata": {},
     "output_type": "execute_result"
    }
   ],
   "source": [
    "# Calculation\n",
    "\n",
    "def ad_num(num1,num2):\n",
    "    return (num1 + num2)\n",
    "\n",
    "'''\n",
    "def ad_num (num1, num2):\n",
    "    num_sum = num1 + num2\n",
    "    return num_sum\n",
    "'''\n",
    "\n",
    "'''\n",
    "print(ad_num(\n",
    "    float(input(\"Enter a number: \")),\n",
    "    float(input(\"Enter a second number: \")),\n",
    "    )\n",
    ")\n",
    "'''"
   ]
  },
  {
   "cell_type": "code",
   "execution_count": 9,
   "id": "a87f2c88",
   "metadata": {},
   "outputs": [
    {
     "name": "stdout",
     "output_type": "stream",
     "text": [
      "[9, 8, 8, 9, 8, 8, 9]\n"
     ]
    }
   ],
   "source": [
    "# Function 'add_list' to add values in two numerical lists:\n",
    "## !MUST equal in length!\n",
    "\n",
    "'''def ad_num (num1, num2):\n",
    "    num_sum = num1 + num2\n",
    "    return num_sum\n",
    "'''\n",
    "def add_list (listx, listy):\n",
    "    added_list = []\n",
    "    for indx in range(len(listx)):\n",
    "        added_sum = ad_num(\n",
    "            listx[indx],listy[indx])\n",
    "        added_list.append(added_sum)\n",
    "    print(added_list)\n",
    "    \n",
    "add_list(list1,list1_copy)"
   ]
  },
  {
   "cell_type": "code",
   "execution_count": 1,
   "id": "2cf70453",
   "metadata": {},
   "outputs": [],
   "source": [
    "# Yield to avoid stoppin gby return:"
   ]
  },
  {
   "cell_type": "code",
   "execution_count": 10,
   "id": "f133bc58",
   "metadata": {},
   "outputs": [
    {
     "name": "stdout",
     "output_type": "stream",
     "text": [
      "40 added by the Current User\n",
      "50 added by Jayden\n"
     ]
    }
   ],
   "source": [
    "# Assign DEFAULT value to a function (*but can be overrode).\n",
    "\n",
    "def ad_num(x,y=30, user = 'the Current User'):\n",
    "    return str(x+y) + ' added by ' + user\n",
    "\n",
    "print (ad_num(10))\n",
    "\n",
    "print (ad_num(10,40,'Jayden')) # overrold default"
   ]
  },
  {
   "cell_type": "markdown",
   "id": "0fbbd536",
   "metadata": {},
   "source": [
    "### <span style=\"color:#E2C382;\">*# lambda*</span>"
   ]
  },
  {
   "cell_type": "code",
   "execution_count": 11,
   "id": "ddbbfdba",
   "metadata": {},
   "outputs": [
    {
     "name": "stdout",
     "output_type": "stream",
     "text": [
      "10\n"
     ]
    }
   ],
   "source": [
    "# Lambda functions are anonymous functions that are defined without a name.\n",
    "## lambda + argument : expression (only one)\n",
    "### Better use it as an anonymous function inside another function\n",
    "\n",
    "double_num = lambda x: x * 2\n",
    "print(double_num(5))\n",
    "\n",
    "# x is the argument, x * 2 is the expression"
   ]
  }
 ],
 "metadata": {
  "kernelspec": {
   "display_name": "Python 3.9.7 ('base')",
   "language": "python",
   "name": "python3"
  },
  "language_info": {
   "codemirror_mode": {
    "name": "ipython",
    "version": 3
   },
   "file_extension": ".py",
   "mimetype": "text/x-python",
   "name": "python",
   "nbconvert_exporter": "python",
   "pygments_lexer": "ipython3",
   "version": "3.9.7"
  },
  "vscode": {
   "interpreter": {
    "hash": "a077222d77dfe082b8f1dd562ad70e458ac2ab76993a0b248ab0476e32e9e8dd"
   }
  }
 },
 "nbformat": 4,
 "nbformat_minor": 5
}
