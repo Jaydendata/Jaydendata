{
 "cells": [
  {
   "cell_type": "markdown",
   "id": "f04da733",
   "metadata": {},
   "source": [
    "# <span style=\"color:#e2c382;\">DATA TYPE</span>"
   ]
  },
  {
   "cell_type": "markdown",
   "id": "5045520c",
   "metadata": {},
   "source": [
    "### <span style=\"color:#e2c382;\">*# strings*</span>"
   ]
  },
  {
   "cell_type": "code",
   "execution_count": 10,
   "id": "62f5cd86",
   "metadata": {},
   "outputs": [
    {
     "name": "stdout",
     "output_type": "stream",
     "text": [
      "(1, 0, 0) 1000\n"
     ]
    }
   ],
   "source": [
    "# ',' should not be put in numbers:\n",
    "\n",
    "sales2 = 1,000,000\n",
    "sales1 = 1000\n",
    "\n",
    "print(sales2,sales1)"
   ]
  },
  {
   "cell_type": "code",
   "execution_count": 11,
   "id": "c7da71cb",
   "metadata": {},
   "outputs": [
    {
     "name": "stdout",
     "output_type": "stream",
     "text": [
      "Toppr is awesome\n"
     ]
    }
   ],
   "source": [
    "# Cancel default staring a new line with print()s\n",
    "\n",
    "print('Toppr', end=' ')\n",
    "print('is awesome')"
   ]
  },
  {
   "cell_type": "code",
   "execution_count": 1,
   "id": "e1a4422a",
   "metadata": {},
   "outputs": [
    {
     "data": {
      "text/plain": [
       "{0: 'a', 1: 'b', 2: 'c', 3: 'd', 4: 'e', 5: 'f', 6: 'g'}"
      ]
     },
     "execution_count": 1,
     "metadata": {},
     "output_type": "execute_result"
    }
   ],
   "source": [
    "# Use enumerate() to outline index and elements:\n",
    "\n",
    "string1 = 'abcdefg'\n",
    "dict(enumerate(string1))"
   ]
  },
  {
   "cell_type": "code",
   "execution_count": 2,
   "id": "2afbb827",
   "metadata": {},
   "outputs": [
    {
     "name": "stdout",
     "output_type": "stream",
     "text": [
      "a\n",
      "b\n",
      "c\n",
      "d\n",
      "e\n",
      "f\n",
      "g\n"
     ]
    }
   ],
   "source": [
    "for i in string1:\n",
    "    print(i)"
   ]
  },
  {
   "cell_type": "code",
   "execution_count": 13,
   "id": "934d3828",
   "metadata": {},
   "outputs": [
    {
     "data": {
      "text/plain": [
       "[(0, 'H'),\n",
       " (1, 'e'),\n",
       " (2, 'l'),\n",
       " (3, 'l'),\n",
       " (4, 'o'),\n",
       " (5, ' '),\n",
       " (6, 'W'),\n",
       " (7, 'o'),\n",
       " (8, 'r'),\n",
       " (9, 'l'),\n",
       " (10, 'd'),\n",
       " (11, ' ')]"
      ]
     },
     "execution_count": 13,
     "metadata": {},
     "output_type": "execute_result"
    }
   ],
   "source": [
    "string2 = 'Hello World '\n",
    "list(enumerate(string2))"
   ]
  },
  {
   "cell_type": "code",
   "execution_count": 14,
   "id": "28189b30",
   "metadata": {},
   "outputs": [
    {
     "data": {
      "text/plain": [
       "'Hello World'"
      ]
     },
     "execution_count": 14,
     "metadata": {},
     "output_type": "execute_result"
    }
   ],
   "source": [
    "#properies, functions, methods\n",
    "\n",
    "#Capitalize\n",
    "string2.capitalize()\n",
    "\n",
    "#Upper case\n",
    "string2.upper()\n",
    "\n",
    "#Strip blanks\n",
    "string2.strip()"
   ]
  },
  {
   "cell_type": "code",
   "execution_count": 15,
   "id": "963077a5",
   "metadata": {},
   "outputs": [
    {
     "data": {
      "text/plain": [
       "2"
      ]
     },
     "execution_count": 15,
     "metadata": {},
     "output_type": "execute_result"
    }
   ],
   "source": [
    "# Count occurance from a position:\n",
    "string2.count('l', 3)"
   ]
  },
  {
   "cell_type": "code",
   "execution_count": 16,
   "id": "4e8e301a",
   "metadata": {},
   "outputs": [
    {
     "data": {
      "text/plain": [
       "0"
      ]
     },
     "execution_count": 16,
     "metadata": {},
     "output_type": "execute_result"
    }
   ],
   "source": [
    "# extract element from string\n",
    "\n",
    "response_code = 600\n",
    "int(str(response_code)[1])"
   ]
  },
  {
   "cell_type": "code",
   "execution_count": 6,
   "id": "208bc3e7",
   "metadata": {},
   "outputs": [
    {
     "name": "stdout",
     "output_type": "stream",
     "text": [
      "2022-07-30T00:00\n",
      "['2022-07-30', '00:00']\n",
      "2022-07-30\n"
     ]
    }
   ],
   "source": [
    "# Split a string into list, then extract:\n",
    "dateAndTime = '2022-07-30T00:00'\n",
    "print(dateAndTime)\n",
    "print(dateAndTime.split('T'))\n",
    "print(dateAndTime.split('T')[0])"
   ]
  },
  {
   "cell_type": "code",
   "execution_count": 17,
   "id": "d5485655",
   "metadata": {},
   "outputs": [
    {
     "name": "stdout",
     "output_type": "stream",
     "text": [
      "['ha', 'ha', 'ha', 'ha', 'ha', 'ha']\n",
      "6\n"
     ]
    }
   ],
   "source": [
    "# Word count - split() by space\n",
    "string4 = 'ha ha ha ha ha ha'\n",
    "print(string4.split())\n",
    "print(len(string4.split()))"
   ]
  },
  {
   "cell_type": "code",
   "execution_count": 18,
   "id": "63f142f5",
   "metadata": {},
   "outputs": [
    {
     "name": "stdout",
     "output_type": "stream",
     "text": [
      "['ha', 'ha', 'ha', 'ha ha ha']\n",
      "4\n"
     ]
    }
   ],
   "source": [
    "# Word count - split() by comma\n",
    "string5 = 'ha,ha,ha,ha ha ha'\n",
    "print(string5.split(','))\n",
    "print(len(string5.split(',')))"
   ]
  },
  {
   "cell_type": "code",
   "execution_count": 19,
   "id": "69136f3a",
   "metadata": {},
   "outputs": [
    {
     "name": "stdout",
     "output_type": "stream",
     "text": [
      "Hello World , ha,ha,ha,ha ha ha!\n"
     ]
    }
   ],
   "source": [
    "# String concatenation\n",
    "message1 = string2 + ', ' + string5 + '!'\n",
    "print(message1)"
   ]
  },
  {
   "cell_type": "code",
   "execution_count": 20,
   "id": "85f35263",
   "metadata": {},
   "outputs": [
    {
     "data": {
      "text/plain": [
       "6"
      ]
     },
     "execution_count": 20,
     "metadata": {},
     "output_type": "execute_result"
    }
   ],
   "source": [
    "# Find str location\n",
    "string2.find('Wo')\n",
    "\n",
    "# Index str location\n",
    "string2.index('Wo')"
   ]
  },
  {
   "cell_type": "code",
   "execution_count": 21,
   "id": "c8bd4834",
   "metadata": {},
   "outputs": [
    {
     "name": "stdout",
     "output_type": "stream",
     "text": [
      "\n"
     ]
    }
   ],
   "source": [
    "# Empty value is str\n",
    "string6 = ''\n",
    "type(string6)\n",
    "print(string6)"
   ]
  },
  {
   "cell_type": "code",
   "execution_count": 22,
   "id": "67380567",
   "metadata": {},
   "outputs": [
    {
     "name": "stdout",
     "output_type": "stream",
     "text": [
      "Your variable name is var\n"
     ]
    }
   ],
   "source": [
    "# Convert a Variable name to value:\n",
    "\n",
    "var = 710\n",
    "variable_name = [k for k, v in locals().items() if v == 710][0] \n",
    "print(\"Your variable name is \" + variable_name)"
   ]
  },
  {
   "cell_type": "markdown",
   "id": "de4bec21",
   "metadata": {},
   "source": [
    "### <span style=\"color:#e2c382;\">*# list*</span>"
   ]
  },
  {
   "cell_type": "code",
   "execution_count": 23,
   "id": "42fb3ef6",
   "metadata": {},
   "outputs": [
    {
     "name": "stdout",
     "output_type": "stream",
     "text": [
      "<class 'list'>\n",
      "[1, 2, 3, 4, 5]\n"
     ]
    }
   ],
   "source": [
    "# Create list\n",
    "list1 = [1,2,3,4,5]\n",
    "list2 = list()\n",
    "print(type(list1))\n",
    "print(list1)"
   ]
  },
  {
   "cell_type": "code",
   "execution_count": 24,
   "id": "c2aa7eb6",
   "metadata": {},
   "outputs": [
    {
     "name": "stdout",
     "output_type": "stream",
     "text": [
      "['a', 'b', 'c', 'd', 'e', 'f', 'g']\n",
      "[1, 2, 3, 4, 5, 6]\n",
      "[0, 1, 2, 3, 4, 5, 6]\n"
     ]
    }
   ],
   "source": [
    "# Create list contents\n",
    "## Numeric list can be created using 'rang()'\n",
    "list3 = list('abcdefg')\n",
    "print(list3)\n",
    "list1 = list(range(1,7))\n",
    "print(list1)\n",
    "list1 = list(range(7))\n",
    "print(list1)"
   ]
  },
  {
   "cell_type": "code",
   "execution_count": 25,
   "id": "11e0b848",
   "metadata": {},
   "outputs": [
    {
     "name": "stdout",
     "output_type": "stream",
     "text": [
      "[0, 1, 2, 3, 4, 5, 6, 8]\n"
     ]
    }
   ],
   "source": [
    "# Adding a value to the list\n",
    "\n",
    "list1.append(8)\n",
    "print(list1)"
   ]
  },
  {
   "cell_type": "code",
   "execution_count": 26,
   "id": "13f30b1e",
   "metadata": {},
   "outputs": [
    {
     "name": "stdout",
     "output_type": "stream",
     "text": [
      "[0, 1, 2, 4, 5, 6, 8]\n"
     ]
    }
   ],
   "source": [
    "# Delete a value in the list\n",
    "list1.pop(3)\n",
    "print(list1)"
   ]
  },
  {
   "cell_type": "code",
   "execution_count": 27,
   "id": "14350f28",
   "metadata": {},
   "outputs": [
    {
     "name": "stdout",
     "output_type": "stream",
     "text": [
      "[0, 1, 2, 4, 5, 6, 8]\n"
     ]
    }
   ],
   "source": [
    "# Copy a list\n",
    "list1_copy = list1.copy()\n",
    "print(list1_copy)"
   ]
  },
  {
   "cell_type": "code",
   "execution_count": 28,
   "id": "43bdc8cf",
   "metadata": {},
   "outputs": [
    {
     "name": "stdout",
     "output_type": "stream",
     "text": [
      "[0, 1, 2, 4, 5, 6, 8, 'a', 'b', 'c', 'd', 'e', 'f', 'g']\n"
     ]
    }
   ],
   "source": [
    "# Extend a list\n",
    "list1_copy.extend(list3)\n",
    "print(list1_copy)"
   ]
  },
  {
   "cell_type": "code",
   "execution_count": 29,
   "id": "026f6f08",
   "metadata": {},
   "outputs": [
    {
     "name": "stdout",
     "output_type": "stream",
     "text": [
      "[1, 2, 3, 5, 6, 7, 9]\n"
     ]
    }
   ],
   "source": [
    "# Change all numbers in a list:\n",
    "\n",
    "list_length = len(list1)\n",
    "for i in range(list_length):\n",
    "    list1[i] = list1[i] + 1\n",
    "print(list1)"
   ]
  },
  {
   "cell_type": "code",
   "execution_count": 30,
   "id": "309899f2",
   "metadata": {},
   "outputs": [
    {
     "name": "stdout",
     "output_type": "stream",
     "text": [
      "['g', 'f', 'e', 'd', 'c', 'b', 'a']\n"
     ]
    }
   ],
   "source": [
    "# Sort a list\n",
    "list3.sort(reverse=True)\n",
    "print(list3)"
   ]
  },
  {
   "cell_type": "code",
   "execution_count": 31,
   "id": "f61ce8ee",
   "metadata": {},
   "outputs": [
    {
     "name": "stdout",
     "output_type": "stream",
     "text": [
      "['g', 'f', 'e', 'd', 'c', 'b', 'a', 8, 6, 5, 4, 2, 1, 0]\n"
     ]
    }
   ],
   "source": [
    "# Reverse a list\n",
    "list1_copy.reverse()\n",
    "print(list1_copy)"
   ]
  },
  {
   "cell_type": "code",
   "execution_count": 32,
   "id": "5388b92c",
   "metadata": {},
   "outputs": [
    {
     "name": "stdout",
     "output_type": "stream",
     "text": [
      "[8, 6, 5, 4, 2, 1, 0]\n"
     ]
    }
   ],
   "source": [
    "# Delete ranges in a list\n",
    "\n",
    "del list1_copy[0:7]\n",
    "print(list1_copy)"
   ]
  },
  {
   "cell_type": "code",
   "execution_count": 33,
   "id": "a92e1618",
   "metadata": {},
   "outputs": [
    {
     "data": {
      "text/plain": [
       "[1, 3, 6, 9]"
      ]
     },
     "execution_count": 33,
     "metadata": {},
     "output_type": "execute_result"
    }
   ],
   "source": [
    "# Retrieve every x values:\n",
    "list1[::2]"
   ]
  },
  {
   "cell_type": "code",
   "execution_count": 34,
   "id": "aafd4244",
   "metadata": {},
   "outputs": [
    {
     "data": {
      "text/plain": [
       "[3, 5, 6, 7]"
      ]
     },
     "execution_count": 34,
     "metadata": {},
     "output_type": "execute_result"
    }
   ],
   "source": [
    "# Retrieve begins from/ends by\n",
    "list1[2:-1]"
   ]
  },
  {
   "cell_type": "code",
   "execution_count": 35,
   "id": "2552e74e",
   "metadata": {},
   "outputs": [
    {
     "data": {
      "text/plain": [
       "[(0, 'g'), (1, 'f'), (2, 'e'), (3, 'd'), (4, 'c'), (5, 'b'), (6, 'a')]"
      ]
     },
     "execution_count": 35,
     "metadata": {},
     "output_type": "execute_result"
    }
   ],
   "source": [
    "# Use enumerate to extract location and element:\n",
    "list(enumerate(list3))"
   ]
  },
  {
   "cell_type": "code",
   "execution_count": 36,
   "id": "75524e30",
   "metadata": {},
   "outputs": [
    {
     "data": {
      "text/plain": [
       "'Number Not Found'"
      ]
     },
     "execution_count": 36,
     "metadata": {},
     "output_type": "execute_result"
    }
   ],
   "source": [
    "# check if a number exists in a list using for loop:\n",
    "\n",
    "## 'RETURN' value will STOP LOOPING in the function\n",
    "### So 'Number Not Found' will not show if i valid.\n",
    "\n",
    "def mystery_function (list_to_check, value):\n",
    "    for i in range(len(list_to_check)):\n",
    "        if(list_to_check[i]==value):\n",
    "            return i                # if returned will stop here\n",
    "        return 'Number Not Found'\n",
    "\n",
    "mystery_function(list1,50)"
   ]
  },
  {
   "cell_type": "code",
   "execution_count": 37,
   "id": "bcaecec3",
   "metadata": {},
   "outputs": [],
   "source": [
    "# Find the location using enumerate function in loop:\n",
    "\n",
    "def mystery_function (list_to_check, value):\n",
    "    for i,j in enumerate(list_to_check):\n",
    "        if(list_to_check[i]==value):\n",
    "            return i\n",
    "        return 'Number Not Found'"
   ]
  },
  {
   "cell_type": "code",
   "execution_count": 38,
   "id": "754e26bc",
   "metadata": {},
   "outputs": [
    {
     "name": "stdout",
     "output_type": "stream",
     "text": [
      "['1', '3', '4', '5', '6', '1', '1', '2', '2', '3', '0']\n",
      "11\n",
      "6\n",
      "0\n"
     ]
    }
   ],
   "source": [
    "# Count characters excluding spaces in a string, find max/min\n",
    "\n",
    "countlist = list('13 4 5 6 1 12230')\n",
    "while \" \" in countlist:\n",
    "    countlist.remove(\" \") # remove empty emlements\n",
    "print(countlist)\n",
    "\n",
    "print(len(countlist)) # count characters \n",
    "print(max(countlist)) # find the max\n",
    "print(min(countlist)) # find the min\n"
   ]
  },
  {
   "cell_type": "code",
   "execution_count": 39,
   "id": "5282c9e7",
   "metadata": {},
   "outputs": [
    {
     "name": "stdout",
     "output_type": "stream",
     "text": [
      "A red and a blue ship have just collided in the Caribbean. Apparently the survivors are marooned.\n"
     ]
    }
   ],
   "source": [
    "# Find the longest value in a list of strings:\n",
    "## Multipl methods:\n",
    "\n",
    "dad_joke_list = ['Why do ducks make great detectives? They always quack the case.', 'I gave all my dead batteries away today, free of charge.', 'How do you steal a coat? You jacket.', 'My friend said to me: \"What rhymes with orange\" I said: \"no it doesn\\'t\"', 'I have kleptomania, but when it gets bad, I take something for it.', 'What do you call a cow with no legs? Ground beef.', 'I made a belt out of watches once... It was a waist of time.', 'Where do hamburgers go to dance? The meat-ball.', 'This furniture store keeps emailing me, all I wanted was one night stand!', 'A red and a blue ship have just collided in the Caribbean. Apparently the survivors are marooned.']\n",
    "\n",
    "longest = max(dad_joke_list,key=len)\n",
    "print(longest)\n",
    "\n",
    "\n",
    "# sorted(dad_joke_list, key=lambda x: len(x))[-1]\n",
    "\n",
    "\n",
    "# joke_len = []\n",
    "# for joke in dad_joke_list:\n",
    "#     joke_len.append(len(joke))\n",
    "# location = (joke_len.index(max(joke_len)))\n",
    "# print(dad_joke_list[location],max(joke_len))\n",
    "\n",
    "\n",
    "# joke_lenth1 = 0\n",
    "# for joke in joke_list:\n",
    "#     joke_lenth2 = len(joke)\n",
    "#     if joke_lenth2 >= joke_lenth1:\n",
    "#         joke_lenth1 = joke_lenth2\n",
    "#         longest_joke = joke\n",
    "# print(longest_joke)"
   ]
  },
  {
   "cell_type": "markdown",
   "id": "a1f318a2",
   "metadata": {},
   "source": [
    "### <span style=\"color:#E2C382;\">*# tuple*</span>"
   ]
  },
  {
   "cell_type": "code",
   "execution_count": 40,
   "id": "b6183f7b",
   "metadata": {},
   "outputs": [
    {
     "name": "stdout",
     "output_type": "stream",
     "text": [
      "()\n",
      "<class 'tuple'>\n"
     ]
    }
   ],
   "source": [
    "# Tuples are immutable data types\n",
    "tuple1 = ()\n",
    "print(tuple1)\n",
    "print(type(tuple1))"
   ]
  },
  {
   "cell_type": "code",
   "execution_count": 41,
   "id": "eaf74cc6",
   "metadata": {},
   "outputs": [
    {
     "name": "stdout",
     "output_type": "stream",
     "text": [
      "(10, 20)\n"
     ]
    }
   ],
   "source": [
    "# However, can be changed by re-defining it\n",
    "tuple1 = (10,20)\n",
    "print(tuple1)"
   ]
  },
  {
   "cell_type": "code",
   "execution_count": 42,
   "id": "daeae2ef",
   "metadata": {},
   "outputs": [
    {
     "data": {
      "text/plain": [
       "20"
      ]
     },
     "execution_count": 42,
     "metadata": {},
     "output_type": "execute_result"
    }
   ],
   "source": [
    "# Call value from tuple\n",
    "tuple1[1]"
   ]
  },
  {
   "cell_type": "markdown",
   "id": "c3492b28",
   "metadata": {},
   "source": [
    "### <span style=\"color:#E2C382;\">*# set*</span>"
   ]
  },
  {
   "cell_type": "code",
   "execution_count": 43,
   "id": "ad270ab9",
   "metadata": {},
   "outputs": [
    {
     "name": "stdout",
     "output_type": "stream",
     "text": [
      "Here a list: [1, 2, 34, 4, 5, 2, 1, 3, 1, 2, 6, 7, 7, 8, 3, 8, 9, 6, 9, 4, 9]\n",
      "Converted to SET: [1, 2, 34, 4, 5, 3, 6, 7, 8, 9]\n",
      "Reversed order: [34, 9, 8, 7, 6, 5, 4, 3, 2, 1]\n"
     ]
    },
    {
     "data": {
      "text/plain": [
       "'\\nHere we are taking advantage of 2 basic features of a Set, namely,\\na. Elements of a set are unordered.\\nb. A set cannot have duplicate elements.\\n'"
      ]
     },
     "execution_count": 43,
     "metadata": {},
     "output_type": "execute_result"
    }
   ],
   "source": [
    "# 1. Convert list into set using 'set(list)' to remove duplicates\n",
    "# 2. and then converting it back to a list 'list(set(list))', and then sorting it '.sort()'.\n",
    "\n",
    "alist2 = [1, 2, 34, 4, 5, 2, 1, 3, 1, 2, 6, 7, 7, 8, 3, 8, 9, 6, 9, 4, 9]\n",
    "print(f\"Here a list: {alist2}\")\n",
    "\n",
    "xlist = list(set(alist2))\n",
    "print(f\"Converted to SET: {xlist}\")\n",
    "\n",
    "xlist.sort(reverse = True) # x = sorted(list(set(a)),reverse=True) is also possible\n",
    "print(f\"Reversed order: {xlist}\")\n",
    "\n",
    "'''\n",
    "Here we are taking advantage of 2 basic features of a Set, namely,\n",
    "a. Elements of a set are unordered.\n",
    "b. A set cannot have duplicate elements.\n",
    "'''"
   ]
  },
  {
   "cell_type": "code",
   "execution_count": 44,
   "id": "93a5bef6",
   "metadata": {},
   "outputs": [
    {
     "name": "stdout",
     "output_type": "stream",
     "text": [
      "<class 'set'>\n",
      "{1, 2, 3}\n"
     ]
    }
   ],
   "source": [
    "# SET data type, stores only unique values. \n",
    "set1 = {1,2,2,2,3}\n",
    "print(type(set1))\n",
    "print(set1)"
   ]
  },
  {
   "cell_type": "code",
   "execution_count": 45,
   "id": "ba517deb",
   "metadata": {},
   "outputs": [
    {
     "data": {
      "text/plain": [
       "{2, 3}"
      ]
     },
     "execution_count": 45,
     "metadata": {},
     "output_type": "execute_result"
    }
   ],
   "source": [
    "# Cross-set functions\n",
    "set2 = {3,2,4,5}\n",
    "set1.intersection(set2)"
   ]
  },
  {
   "cell_type": "code",
   "execution_count": 46,
   "id": "d9e97de6",
   "metadata": {},
   "outputs": [],
   "source": [
    "# Delete a set member:\n",
    "\n",
    "set2.remove(2)"
   ]
  },
  {
   "cell_type": "markdown",
   "id": "fa96c444",
   "metadata": {},
   "source": [
    "### <span style=\"color:#e2c382;\">*# dictionary*</span>\n",
    "    "
   ]
  },
  {
   "cell_type": "code",
   "execution_count": 47,
   "id": "6fe07d28",
   "metadata": {},
   "outputs": [
    {
     "name": "stdout",
     "output_type": "stream",
     "text": [
      "{'a': 1, 'b': 2, 'c': 3, 'd': 4}\n"
     ]
    }
   ],
   "source": [
    "# Create a dictionary\n",
    "dict1 = {'a':1,'b':2,'c':3,'d':4}\n",
    "print(dict1)"
   ]
  },
  {
   "cell_type": "code",
   "execution_count": 48,
   "id": "a12cb7ca",
   "metadata": {},
   "outputs": [
    {
     "name": "stdout",
     "output_type": "stream",
     "text": [
      "{8: 'g', 6: 'f', 5: 'e', 4: 'd', 2: 'c', 1: 'b', 0: 'a'}\n"
     ]
    }
   ],
   "source": [
    "# Create a dictionary by joining two lists\n",
    "dict2 = dict(zip(list1_copy,list3))\n",
    "print(dict2)\n"
   ]
  },
  {
   "cell_type": "code",
   "execution_count": 49,
   "id": "af0e0de3",
   "metadata": {},
   "outputs": [
    {
     "data": {
      "text/plain": [
       "dict_values(['g', 'f', 'e', 'd', 'c', 'b', 'a'])"
      ]
     },
     "execution_count": 49,
     "metadata": {},
     "output_type": "execute_result"
    }
   ],
   "source": [
    "# retrieve all VALUES from a dictionary\n",
    "dict2.values()"
   ]
  },
  {
   "cell_type": "code",
   "execution_count": 50,
   "id": "b3f1ff4b",
   "metadata": {},
   "outputs": [
    {
     "data": {
      "text/plain": [
       "dict_items([(8, 'g'), (6, 'f'), (5, 'e'), (4, 'd'), (2, 'c'), (1, 'b'), (0, 'a')])"
      ]
     },
     "execution_count": 50,
     "metadata": {},
     "output_type": "execute_result"
    }
   ],
   "source": [
    "# retrieve items - Key, Value\n",
    "dict2.items()"
   ]
  },
  {
   "cell_type": "code",
   "execution_count": 52,
   "id": "e527bfd8",
   "metadata": {},
   "outputs": [
    {
     "name": "stdout",
     "output_type": "stream",
     "text": [
      "[8]\n",
      "8\n",
      "6\n"
     ]
    }
   ],
   "source": [
    "# find value with a key: .get('key', 'alt phrase if not found')\n",
    "# find key with a value: .items(), example:\n",
    "\n",
    "## Simple form (list comprhension):\n",
    "keys = [k for k, v in dict2.items() if v == 'g']\n",
    "print(keys)\n",
    "\n",
    "\n",
    "## Create a function\n",
    "def get_key(val):\n",
    "    for key, value in dict2.items():\n",
    "         if val == value:\n",
    "             return key\n",
    " \n",
    "    return \"There is no such Key\"\n",
    "   \n",
    "print(get_key('g'))\n",
    "print(get_key('f'))"
   ]
  },
  {
   "cell_type": "code",
   "execution_count": null,
   "id": "613b771e",
   "metadata": {},
   "outputs": [
    {
     "data": {
      "text/plain": [
       "[2, 4, 6, 8, 10]"
      ]
     },
     "execution_count": 52,
     "metadata": {},
     "output_type": "execute_result"
    }
   ],
   "source": [
    "# lists in dictionary\n",
    "\n",
    "dict3 = {\n",
    "    'even_nums':[2,4,6,8,10],\n",
    "    'odd_nums':[1,3,5,7,9],\n",
    "    }\n",
    "dict3['even_nums']"
   ]
  },
  {
   "cell_type": "code",
   "execution_count": null,
   "id": "36dd9e78",
   "metadata": {},
   "outputs": [
    {
     "data": {
      "text/plain": [
       "7"
      ]
     },
     "execution_count": 53,
     "metadata": {},
     "output_type": "execute_result"
    }
   ],
   "source": [
    "# Retrieve key and value from a list in dictionary:\n",
    "\n",
    "dict3['odd_nums'][3]"
   ]
  },
  {
   "cell_type": "code",
   "execution_count": null,
   "id": "4fb5ecc7",
   "metadata": {},
   "outputs": [
    {
     "name": "stdout",
     "output_type": "stream",
     "text": [
      "A\n",
      "B\n",
      "C\n",
      "D\n"
     ]
    }
   ],
   "source": [
    "# Order the KEYS - sorted (dict)\n",
    "\n",
    "for letter in sorted(dict1):\n",
    "    print(letter.capitalize())\n",
    "\n",
    "# Equal to sorted(dict1.keys())"
   ]
  },
  {
   "cell_type": "code",
   "execution_count": 54,
   "id": "0336d68a",
   "metadata": {},
   "outputs": [
    {
     "data": {
      "text/plain": [
       "{'d': 4, 'c': 3, 'b': 2, 'a': 1}"
      ]
     },
     "execution_count": 54,
     "metadata": {},
     "output_type": "execute_result"
    }
   ],
   "source": [
    "# Sort/order the dict by VALUES: sorted()lambda method:\n",
    "## Created a list then convert back to dict\n",
    "\n",
    "sorted_list_dict1 = sorted(dict1.items(), key = lambda x : x[1], reverse= True)\n",
    "sorted_dict1 = dict(sorted_list_dict1)\n",
    "sorted_dict1"
   ]
  },
  {
   "cell_type": "code",
   "execution_count": 58,
   "id": "39718ba2",
   "metadata": {},
   "outputs": [
    {
     "data": {
      "text/plain": [
       "{'d': 4, 'c': 3, 'b': 2, 'a': 1}"
      ]
     },
     "execution_count": 58,
     "metadata": {},
     "output_type": "execute_result"
    }
   ],
   "source": [
    "# Sort/order the dict by KEYS: sorted()lambda method:\n",
    "## Created a list then convert back to dict\n",
    "\n",
    "sorted_list_dict1 = sorted(dict1.items(), key = lambda x : x[0], reverse= True)\n",
    "sorted_dict1 = dict(sorted_list_dict1)\n",
    "sorted_dict1"
   ]
  },
  {
   "cell_type": "code",
   "execution_count": null,
   "id": "3343ca7d",
   "metadata": {},
   "outputs": [
    {
     "name": "stdout",
     "output_type": "stream",
     "text": [
      "Value does not exist.\n"
     ]
    }
   ],
   "source": [
    "# Deal with error/non-existing key - .get()\n",
    "\n",
    "print(dict3.get('num','Value does not exist.'))"
   ]
  },
  {
   "cell_type": "code",
   "execution_count": null,
   "id": "b4e9fb33",
   "metadata": {},
   "outputs": [
    {
     "name": "stdout",
     "output_type": "stream",
     "text": [
      "2\n",
      "{1, 2, 3}\n",
      "20\n",
      "4\n"
     ]
    }
   ],
   "source": [
    "# Index retrival summary\n",
    "print(list1[1])\n",
    "print(set1)\n",
    "print(tuple1[1])\n",
    "print(dict3['even_nums'][1])"
   ]
  },
  {
   "cell_type": "markdown",
   "id": "7fe3f8ce",
   "metadata": {},
   "source": [
    "# <span style=\"color:#e2c382;\">LISTs & DICTs</span>"
   ]
  },
  {
   "cell_type": "markdown",
   "id": "fef89456",
   "metadata": {},
   "source": [
    "#### <span style=\"color:#E2C382;\">*## looping*</span>"
   ]
  },
  {
   "cell_type": "code",
   "execution_count": null,
   "id": "dbd2bbee",
   "metadata": {},
   "outputs": [
    {
     "name": "stdout",
     "output_type": "stream",
     "text": [
      "dict_items([('a', 1), ('b', 2), ('c', 3), ('d', 4)])\n",
      "\n",
      "key:a\n",
      "value:1\n",
      "\n",
      "key:b\n",
      "value:2\n",
      "\n",
      "key:c\n",
      "value:3\n",
      "\n",
      "key:d\n",
      "value:4\n"
     ]
    }
   ],
   "source": [
    "print(dict1.items())\n",
    "\n",
    "# retrieve ALL values from dict - .items()\n",
    "## \\n is a str\n",
    "\n",
    "for key, value in dict1.items():\n",
    "    print(f\"\\nkey:{key}\")\n",
    "    print(f\"value:{value}\")"
   ]
  },
  {
   "cell_type": "code",
   "execution_count": null,
   "id": "0ddf4ede",
   "metadata": {},
   "outputs": [
    {
     "name": "stdout",
     "output_type": "stream",
     "text": [
      "Key-Value pair\n",
      "the Key is Austin the Value is 911985\n",
      "the Key is Dallas the Value is 89999\n",
      "the Key is San Jose the Value is 100989\n",
      "the Key is Atlanta the Value is 89286\n",
      "the Key is Portland the Value is 101367\n"
     ]
    }
   ],
   "source": [
    "# 'key' and 'value' can be renamed or printed in f-function\n",
    "## ',' can be used to put a space between 'str' and variables\n",
    "\n",
    "sal_info={'Austin':911985, 'Dallas': 89999, 'San Jose': 100989, 'Atlanta': 89286,'Portland':101367}\n",
    "\n",
    "\n",
    "print (\"Key-Value pair\")\n",
    "for k,v in sal_info.items():\n",
    "\tprint (\"the Key is\", k, \"the Value is\", v)"
   ]
  },
  {
   "cell_type": "code",
   "execution_count": null,
   "id": "952b2b5a",
   "metadata": {},
   "outputs": [
    {
     "name": "stdout",
     "output_type": "stream",
     "text": [
      "A\n",
      "B\n",
      "C\n",
      "D\n",
      "A\n",
      "B\n",
      "C\n",
      "D\n"
     ]
    }
   ],
   "source": [
    "# Retrieve only KEYs - .keys() method\n",
    "\n",
    "for value in dict1.keys():\n",
    "    print(value.capitalize())\n",
    "\n",
    "# EQUAL To (key is default)\n",
    "\n",
    "for value in dict1:\n",
    "    print(value.capitalize())"
   ]
  },
  {
   "cell_type": "code",
   "execution_count": null,
   "id": "a04228c9",
   "metadata": {},
   "outputs": [
    {
     "name": "stdout",
     "output_type": "stream",
     "text": [
      "dict_values(['g', 'f', 'e', 'd', 'c', 'b', 'a'])\n"
     ]
    }
   ],
   "source": [
    "# Retrieve ALL VALUES, not keys\n",
    "\n",
    "print(dict2.values())"
   ]
  },
  {
   "cell_type": "code",
   "execution_count": null,
   "id": "ec0d6a5a",
   "metadata": {},
   "outputs": [
    {
     "name": "stdout",
     "output_type": "stream",
     "text": [
      "911985\n",
      "89999\n",
      "100989\n",
      "Austtin\n",
      "Dallas\n",
      "San Jose\n"
     ]
    }
   ],
   "source": [
    "# loop through all values\n",
    "sal_info = {'Austtin': 911985, 'Dallas':89999, 'San Jose' : 100989}\n",
    "\n",
    "for location in sal_info:\n",
    "    print(sal_info[location]) # list all values\n",
    "for location in sal_info:\n",
    "    print(location) # list all keys\n"
   ]
  },
  {
   "cell_type": "code",
   "execution_count": null,
   "id": "45ec03af",
   "metadata": {},
   "outputs": [
    {
     "name": "stdout",
     "output_type": "stream",
     "text": [
      "The new alient position is: (1, 25).\n"
     ]
    }
   ],
   "source": [
    "# Change values within a dictionary based on other values\n",
    "\n",
    "aliendict = dict(x_position = 0,y_position = 25,speed = 'slow')\n",
    "\n",
    "if aliendict['speed'] == 'slow':\n",
    "    x_increment = 1\n",
    "elif aliendict['speed'] == 'medium':\n",
    "    x_increment = 2\n",
    "else:\n",
    "    x_increment = 3\n",
    "\n",
    "aliendict['x_position'] = aliendict['x_position'] + x_increment\n",
    "\n",
    "print(f\"The new alient position is: {aliendict['x_position'], aliendict['y_position']}.\")\n"
   ]
  },
  {
   "cell_type": "code",
   "execution_count": null,
   "id": "0a6472ed",
   "metadata": {},
   "outputs": [
    {
     "name": "stdout",
     "output_type": "stream",
     "text": [
      "Hi, Jen!\n",
      "What language do you like?\n",
      "\n",
      "\n",
      "Hi, Sarah!\n",
      "I see you love C. Could you tell me why?\n",
      "\n",
      "\n",
      "Hi, Edward!\n",
      "What language do you like?\n",
      "\n",
      "\n",
      "Hi, Phil!\n",
      "I see you love Python. Could you tell me why?\n",
      "\n",
      "\n"
     ]
    }
   ],
   "source": [
    "# Pick out KEYs and their VALUES (linking to a LIST):\n",
    "\n",
    "favorite_languages = {\n",
    "'jen': 'python',\n",
    "'sarah': 'c',\n",
    "'edward': 'ruby',\n",
    "'phil': 'python',\n",
    "}\n",
    "\n",
    "friends = ['phil', 'sarah']\n",
    "\n",
    "for name in favorite_languages:\n",
    "    print(f\"Hi, {name.title()}!\")\n",
    "\n",
    "    if name in friends: # Whether the name is in the list\n",
    "        language = favorite_languages[name].title() # define language\n",
    "        print(f\"I see you love {language.title()}. Could you tell me why?\")\n",
    "    else:\n",
    "        print(\"What language do you like?\")\n",
    "    print(\"\\n\")\n"
   ]
  },
  {
   "cell_type": "markdown",
   "id": "d0178eb8",
   "metadata": {},
   "source": [
    "#### <span style=\"color:#E2C382;\">*## Dict from/to List*</span>"
   ]
  },
  {
   "cell_type": "code",
   "execution_count": null,
   "id": "add04338",
   "metadata": {},
   "outputs": [
    {
     "data": {
      "text/plain": [
       "[('jen', 'python'), ('sarah', 'c'), ('edward', 'ruby'), ('phil', 'python')]"
      ]
     },
     "execution_count": 2,
     "metadata": {},
     "output_type": "execute_result"
    }
   ],
   "source": [
    "# From Dict to List using .items()\n",
    "\n",
    "favorite_languages_list = list(favorite_languages.items())\n",
    "favorite_languages_list"
   ]
  },
  {
   "cell_type": "code",
   "execution_count": null,
   "id": "f0582bd9",
   "metadata": {},
   "outputs": [
    {
     "data": {
      "text/plain": [
       "{'jen': 'python', 'sarah': 'c', 'edward': 'ruby', 'phil': 'python'}"
      ]
     },
     "execution_count": 3,
     "metadata": {},
     "output_type": "execute_result"
    }
   ],
   "source": [
    "# From list to dict using dict():\n",
    "\n",
    "favorite_languages_dict = dict(favorite_languages_list)\n",
    "favorite_languages_dict"
   ]
  },
  {
   "cell_type": "markdown",
   "id": "5bcfc1c8",
   "metadata": {},
   "source": [
    "#### <span style=\"color:#E2C382;\">*## Dictionary in List*</span>"
   ]
  },
  {
   "cell_type": "code",
   "execution_count": null,
   "id": "f50e2ed1",
   "metadata": {},
   "outputs": [
    {
     "name": "stdout",
     "output_type": "stream",
     "text": [
      "This is Jayden LI, he is a GA student!\n",
      "This is Poli Moraes, she is a GA student!\n"
     ]
    }
   ],
   "source": [
    "# Def Function to retrieve information from dicts in a list\n",
    "\n",
    "list_names = [dict(\n",
    "    first_name = 'Jayden', \n",
    "    last_name = 'LI', \n",
    "    title = 'GA student',\n",
    "    gender = 'M',\n",
    "    location = 'Sydney'),\n",
    "    dict(first_name = 'Poli', \n",
    "    last_name = 'Moraes', \n",
    "    title = 'GA student',\n",
    "    gender = 'F',\n",
    "    location = 'Sydney')]\n",
    "\n",
    "\n",
    "\n",
    "def name_function (list):\n",
    "    for dicts in list:\n",
    "        if dicts['gender'] == 'M':\n",
    "            he_or_she = 'he'\n",
    "        elif dicts['gender'] == 'F':\n",
    "            he_or_she = 'she'\n",
    "        print (f\"This is {dicts['first_name']} {dicts['last_name']}, {he_or_she} is a {dicts['title']}!\")\n",
    "\n",
    "name_function(list_names)"
   ]
  },
  {
   "cell_type": "code",
   "execution_count": null,
   "id": "d04c7b60",
   "metadata": {},
   "outputs": [],
   "source": [
    "# find specific kind of key/value: creating functions\n",
    "## find value from a key: .get('key', 'alt phrase if not found')\n",
    "## find key from a value: .items(), example:\n",
    "\n"
   ]
  },
  {
   "cell_type": "code",
   "execution_count": null,
   "id": "14fdb0dd",
   "metadata": {},
   "outputs": [
    {
     "name": "stdout",
     "output_type": "stream",
     "text": [
      "Poli       Moraes     GA student F         \n",
      "Jayden     LI         GA student M         \n"
     ]
    }
   ],
   "source": [
    "# Format method (in Print()) to retrieve information from a list of dictionaries:\n",
    "## {0,x}width counts from the end of previous entry.\n",
    "\n",
    "width = '{0:10}'\n",
    "\n",
    "for student in sorted(list_names,key = lambda x: x.get('last_name'),reverse=True):\n",
    "        print(width.format(student['first_name']), width.format(student['last_name']),\n",
    "      width.format(student['title']),width.format(student['gender'],width.format(student['location'])))"
   ]
  },
  {
   "cell_type": "code",
   "execution_count": null,
   "id": "9c40a661",
   "metadata": {},
   "outputs": [
    {
     "name": "stdout",
     "output_type": "stream",
     "text": [
      "Cust-id    Name       order      Phone      \n",
      "Cust-001   Joe        ChocCake   123456    \n",
      "Cust-004   Jack       Bagels     456789    \n",
      "Cust-003   Jill       Scones     546789    \n",
      "Cust-002   Pat        CupCakes   Nil       \n"
     ]
    }
   ],
   "source": [
    "# FULL example: Format Method to extract output from dictionaries in list:\n",
    "\n",
    "customers = [\n",
    "{'id':'Cust-001', 'Cust_name':'Joe', 'order':'ChocCake', 'phone':'123456'},\n",
    "{'id':'Cust-002', 'Cust_name':'Pat', 'order':'CupCakes', 'phone':'Nil'},\n",
    "{'id':'Cust-003', 'Cust_name':'Jill', 'order':'Scones', 'phone':'546789'},\n",
    "{'id':'Cust-004', 'Cust_name':'Jack',  'order':'Bagels','phone':'456789'},\n",
    "]\n",
    "\n",
    "## 1. print heading row using format function:\n",
    "### !! free to define a length, counted from end of previous item.\n",
    "width = '{0:10}'\n",
    "heading = {\"Cust-id\": \"001\", \"Name\":\"Joe\", \"order\":\"Cake\", \"Phone\": \"123456\"}\n",
    "for head in heading: \n",
    "        print(width.format(head), end=' ')\n",
    "\n",
    "## 2 define a function to extract any designated key (phone here) from each dictionary, add to 'key = function,'\n",
    "### !! this is equal to unnamed function = lambda dict: dict.get('phone')\n",
    "def ele_sort (dict):\n",
    "    return dict.get('phone') \n",
    "\n",
    "## 3 here use the simpler lambda function after 'key =':\n",
    "### !! here the 'key =' is a thing in sorted() function, not the key in dictionary.\n",
    "customer_phones = sorted(customers, key = lambda dict: dict.get('phone','N/A'))\n",
    "\n",
    "## 4 choose to check the sorted list(with dictionaries in it)\n",
    "## print(customer_phones)\n",
    "\n",
    "## 5 print the out using format function\n",
    "### !! 'customer_phones' can be replaced by ##3 in one line. \n",
    "print('')\n",
    "for customer in customer_phones:\n",
    "    print(width.format(customer['id']), width.format(customer['Cust_name']),\n",
    "      width.format(customer['order']),width.format(customer['phone']))\n",
    "\n"
   ]
  },
  {
   "cell_type": "code",
   "execution_count": null,
   "id": "3f1ddad2",
   "metadata": {},
   "outputs": [
    {
     "name": "stdout",
     "output_type": "stream",
     "text": [
      "{'color': 'green', 'points': 5, 'speed': 'slow'}\n",
      "{'color': 'green', 'points': 5, 'speed': 'slow'}\n",
      "{'color': 'green', 'points': 5, 'speed': 'slow'}\n",
      "{'color': 'green', 'points': 5, 'speed': 'slow'}\n",
      "{'color': 'green', 'points': 5, 'speed': 'slow'}\n",
      "...\n",
      "The total number of aliens is 30\n"
     ]
    }
   ],
   "source": [
    "# Alien game - create 30 dicts, show first five:\n",
    "\n",
    "aliens = []\n",
    "\n",
    "for alien_number in range (30): # how many times the loop repeats\n",
    "    new_alien = {'color':'green', 'points':5, 'speed':'slow'} # define element in the list with a dict.\n",
    "    aliens.append(new_alien)\n",
    "\n",
    "for alien in aliens[:5]:\n",
    "    print(alien)\n",
    "print(\"...\")\n",
    "print(f\"The total number of aliens is {len(aliens)}\")\n"
   ]
  },
  {
   "cell_type": "code",
   "execution_count": null,
   "id": "cc9cb4bb",
   "metadata": {},
   "outputs": [
    {
     "name": "stdout",
     "output_type": "stream",
     "text": [
      "{'color': 'yellow', 'points': 10, 'speed': 'medium'}\n",
      "{'color': 'yellow', 'points': 10, 'speed': 'medium'}\n",
      "{'color': 'yellow', 'points': 10, 'speed': 'medium'}\n",
      "{'color': 'green', 'points': 5, 'speed': 'slow'}\n",
      "{'color': 'green', 'points': 5, 'speed': 'slow'}\n",
      "...\n"
     ]
    }
   ],
   "source": [
    "# make some changes to the dicts within the list:\n",
    "\n",
    "for alien in aliens[:3]:\n",
    "    if alien['color'] == 'green':\n",
    "        alien['color'] = 'yellow' # change all values for the first 3 elements\n",
    "        alien['speed'] = 'medium'\n",
    "        alien['points'] = 10\n",
    "\n",
    "for alien in aliens[:5]:\n",
    "    print(alien)\n",
    "print(\"...\")\n"
   ]
  },
  {
   "cell_type": "markdown",
   "id": "2a52329c",
   "metadata": {},
   "source": [
    "#### <span style=\"color:#E2C382;\">*## List in Dictionary*</span>"
   ]
  },
  {
   "cell_type": "code",
   "execution_count": null,
   "id": "bda7b0d1",
   "metadata": {},
   "outputs": [
    {
     "name": "stdout",
     "output_type": "stream",
     "text": [
      "You ordered a thick-crust pizza with following toppings:\n",
      "\tmushrooms\n",
      "\textra cheese\n"
     ]
    }
   ],
   "source": [
    "# Pizza order\n",
    "\n",
    "pizza = {\n",
    "    'crust':'thick',\n",
    "    'toppings':['mushrooms','extra cheese']\n",
    "}\n",
    "\n",
    "print(f\"You ordered a {pizza['crust']}-crust pizza with following toppings:\")\n",
    "for topping in pizza['toppings']: # print out elements in a list\n",
    "    print(\"\\t\" + topping)"
   ]
  },
  {
   "cell_type": "markdown",
   "id": "39d33c55",
   "metadata": {},
   "source": [
    "#### <span style=\"color:#E2C382;\">*## Lists to Dicitonary*</span>"
   ]
  },
  {
   "cell_type": "code",
   "execution_count": null,
   "id": "c98e5a31",
   "metadata": {},
   "outputs": [
    {
     "name": "stdout",
     "output_type": "stream",
     "text": [
      "{'a': 1, 'b': 2, 'c': 3, 'd': 4, 'e': 5}\n",
      "{'a': 1, 'b': 2, 'c': 3, 'd': 4, 'e': 5}\n"
     ]
    }
   ],
   "source": [
    "# Convert lists to dictionary\n",
    "\n",
    "alist = list('abcde')\n",
    "blist = [1,2,3,4,5]\n",
    "abdict1 = {}\n",
    "\n",
    "## Method 1 'for' loop\n",
    "\n",
    "indx = 0\n",
    "for k in alist:\n",
    "    v = blist[indx]\n",
    "    abdict1[k] = v\n",
    "    indx += 1\n",
    "print(abdict1)\n",
    "\n",
    "## Method 2 - Dictionary comprehension\n",
    "### range is default to begin from 0\n",
    "\n",
    "abdict1 = {alist[indx]:blist[indx] for indx in range(len(alist))}\n",
    "\n",
    "print(abdict1)"
   ]
  },
  {
   "cell_type": "markdown",
   "id": "1d41c979",
   "metadata": {},
   "source": [
    "#### <span style=\"color:#E2C382;\">*## Dictionary to Dictionary*</span>"
   ]
  },
  {
   "cell_type": "code",
   "execution_count": null,
   "id": "91324b48",
   "metadata": {},
   "outputs": [
    {
     "name": "stdout",
     "output_type": "stream",
     "text": [
      "{'d': 4, 'e': 5}\n"
     ]
    }
   ],
   "source": [
    "# Filtering values - Dictionary Comprehension\n",
    "\n",
    "abdict2 = {k:v for k,v in abdict1.items() if v >3} \n",
    "\n",
    "print (abdict2)"
   ]
  },
  {
   "cell_type": "code",
   "execution_count": null,
   "id": "514a3688",
   "metadata": {},
   "outputs": [
    {
     "data": {
      "text/plain": [
       "False"
      ]
     },
     "execution_count": 70,
     "metadata": {},
     "output_type": "execute_result"
    }
   ],
   "source": [
    "# Example: 1.9 - Python Librarian\n",
    "\n",
    "authors = {\n",
    "    \"Arundhati Roy\": {\n",
    "        \"genre\": \"literary fiction\",\n",
    "        \"books\": [\n",
    "            \"The God of Small Things\",\n",
    "            \"The Ministry of Utmost Happiness\"\n",
    "        ],\n",
    "        \"active\": True\n",
    "    },\n",
    "\n",
    "    \"Brandon Sanderson\": {\n",
    "        \"genre\": \"fantasy\",\n",
    "        \"books\": [\n",
    "            \"The Way of Kings\",\n",
    "            \"Words of Radiance\",\n",
    "            \"Oathbringer\"\n",
    "        ],\n",
    "        \"active\": True,\n",
    "        \"phone\": {\n",
    "            \"home\": \"(281) 330-8004\",\n",
    "            \"work\": \"(877) CASH-NOW\"\n",
    "        }\n",
    "    },\n",
    "    \n",
    "    \"Kobo Abe\": {\n",
    "        \"genre\": \"absurdist fiction\",\n",
    "        \"books\": [\n",
    "            \"The Woman in the Dunes\",\n",
    "            \"The Face of Another\"\n",
    "        ],\n",
    "        \"active\": False\n",
    "    },\n",
    "}\n",
    "\n",
    "\n",
    "authors['Arundhati Roy']['books'][0]\n",
    "\n",
    "authors['Kobo Abe']['active']"
   ]
  },
  {
   "cell_type": "markdown",
   "id": "a49f8b74",
   "metadata": {},
   "source": [
    "#### <span style=\"color:#E2C382;\">*## Combine Lists/Dicts*</span>"
   ]
  },
  {
   "cell_type": "code",
   "execution_count": null,
   "id": "7e51a5e8",
   "metadata": {},
   "outputs": [
    {
     "data": {
      "text/plain": [
       "'\\n\\ncombined_list1 = list(zip(numbers,animals))\\n\\ncombined_dict2 = dict(zip(numbers,animals)) \\n\\ncombined_list2 = animals + numbers\\n\\nanimals.extend(numbers)\\n\\nanimals.append(numbers)\\n\\n'"
      ]
     },
     "execution_count": 71,
     "metadata": {},
     "output_type": "execute_result"
    }
   ],
   "source": [
    "# Methods: zip, + , extend., append.\n",
    "\n",
    "'''\n",
    "\n",
    "combined_list1 = list(zip(numbers,animals))\n",
    "\n",
    "combined_dict2 = dict(zip(numbers,animals)) \n",
    "\n",
    "combined_list2 = animals + numbers\n",
    "\n",
    "animals.extend(numbers)\n",
    "\n",
    "animals.append(numbers)\n",
    "\n",
    "'''"
   ]
  },
  {
   "cell_type": "markdown",
   "id": "47add580",
   "metadata": {},
   "source": [
    "#### <span style=\"color:#E2C382;\">*## File to Dictionary*</span>"
   ]
  },
  {
   "cell_type": "code",
   "execution_count": null,
   "id": "91919449",
   "metadata": {},
   "outputs": [
    {
     "data": {
      "text/plain": [
       "\"\\nwith open('treeorderssubsetnodupes.csv',mode='r') as infile:\\n    reader = csv.reader(infile)\\n    mydict = {}\\n\\n    for now in reader:\\n        key = row[0]\\n        mydict[key] = row[1]\\n\""
      ]
     },
     "execution_count": 72,
     "metadata": {},
     "output_type": "execute_result"
    }
   ],
   "source": [
    "# # Import csv. file to dictionary - walk through code.\n",
    "\n",
    "'''\n",
    "with open('treeorderssubsetnodupes.csv',mode='r') as infile:\n",
    "    reader = csv.reader(infile)\n",
    "    mydict = {}\n",
    "\n",
    "    for now in reader:\n",
    "        key = row[0]\n",
    "        mydict[key] = row[1]\n",
    "'''    "
   ]
  },
  {
   "cell_type": "code",
   "execution_count": null,
   "id": "3391c406",
   "metadata": {},
   "outputs": [],
   "source": []
  },
  {
   "cell_type": "markdown",
   "id": "5fa497db",
   "metadata": {},
   "source": [
    "# <span style=\"color:#e2c382;\">Store Variables</span>"
   ]
  },
  {
   "cell_type": "code",
   "execution_count": null,
   "id": "a2867553",
   "metadata": {},
   "outputs": [
    {
     "name": "stdout",
     "output_type": "stream",
     "text": [
      "Stored 'abdict1' (dict)\n",
      "Stored 'abdict2' (dict)\n",
      "Stored 'dict1' (dict)\n",
      "Stored 'dict2' (dict)\n",
      "Stored 'dict3' (dict)\n",
      "Stored 'a' (list)\n",
      "Stored 'alist' (list)\n",
      "Stored 'alist2' (list)\n",
      "Stored 'alien' (dict)\n",
      "Stored 'blist' (list)\n",
      "Stored 'countlist' (list)\n",
      "Stored 'friends' (list)\n",
      "Stored 'list1' (list)\n",
      "Stored 'list1_copy' (list)\n",
      "Stored 'list2' (list)\n",
      "Stored 'list3' (list)\n",
      "Stored 'list_names' (list)\n",
      "Stored 'set1' (set)\n",
      "Stored 'set2' (set)\n",
      "Stored 'message1' (str)\n",
      "Stored 'string1' (str)\n",
      "Stored 'string2' (str)\n",
      "Stored 'string2' (str)\n",
      "Stored 'string4' (str)\n",
      "Stored 'string5' (str)\n",
      "Stored 'string6' (str)\n",
      "Stored 'tuple1' (tuple)\n",
      "Stored variables and their in-db values:\n",
      "a                      -> [1, 2, 34, 4, 5, 2, 1, 3, 1, 2, 6, 7, 7, 8, 3, 8, \n",
      "abdict1                -> {'a': 1, 'b': 2, 'c': 3, 'd': 4, 'e': 5}\n",
      "abdict2                -> {'d': 4, 'e': 5}\n",
      "alien                  -> {'color': 'green', 'points': 5, 'speed': 'slow'}\n",
      "alist                  -> ['a', 'b', 'c', 'd', 'e']\n",
      "alist2                 -> [1, 2, 34, 4, 5, 2, 1, 3, 1, 2, 6, 7, 7, 8, 3, 8, \n",
      "blist                  -> [1, 2, 3, 4, 5]\n",
      "countlist              -> ['1', '3', '4', '5', '6', '1', '1', '2', '2', '3',\n",
      "dict1                  -> {'a': 1, 'b': 2, 'c': 3, 'd': 4}\n",
      "dict2                  -> {8: 'g', 6: 'f', 5: 'e', 4: 'd', 2: 'c', 1: 'b', 0\n",
      "dict3                  -> {'even_nums': [2, 4, 6, 8, 10], 'odd_nums': [1, 3,\n",
      "friends                -> ['phil', 'sarah']\n",
      "list1                  -> [1, 2, 3, 5, 6, 7, 9]\n",
      "list1_copy             -> [8, 6, 5, 4, 2, 1, 0]\n",
      "list2                  -> []\n",
      "list3                  -> ['g', 'f', 'e', 'd', 'c', 'b', 'a']\n",
      "list_names             -> [{'first_name': 'Jayden', 'last_name': 'LI', 'titl\n",
      "message1               -> 'Hello World , ha,ha,ha,ha ha ha!'\n",
      "set1                   -> {1, 2, 3}\n",
      "set2                   -> {3, 4, 5}\n",
      "string1                -> 'abcdefg'\n",
      "string2                -> 'Hello World '\n",
      "string4                -> 'ha ha ha ha ha ha'\n",
      "string5                -> 'ha,ha,ha,ha ha ha'\n",
      "string6                -> ''\n",
      "tuple1                 -> (10, 20)\n"
     ]
    }
   ],
   "source": [
    "%store abdict1\n",
    "%store abdict2\n",
    "%store dict1\n",
    "%store dict2\n",
    "%store dict3\n",
    "%store a\n",
    "%store alist\n",
    "%store alist2\n",
    "%store alien\n",
    "%store blist\n",
    "%store countlist\n",
    "%store friends\n",
    "%store list1\n",
    "%store list1_copy\n",
    "%store list2\n",
    "%store list3\n",
    "%store list_names\n",
    "%store set1\n",
    "%store set2\n",
    "%store message1\n",
    "%store string1\n",
    "%store string2\n",
    "%store string2\n",
    "%store string4\n",
    "%store string5\n",
    "%store string6\n",
    "%store tuple1\n",
    "%store "
   ]
  }
 ],
 "metadata": {
  "kernelspec": {
   "display_name": "Python 3.10.5 64-bit",
   "language": "python",
   "name": "python3"
  },
  "language_info": {
   "codemirror_mode": {
    "name": "ipython",
    "version": 3
   },
   "file_extension": ".py",
   "mimetype": "text/x-python",
   "name": "python",
   "nbconvert_exporter": "python",
   "pygments_lexer": "ipython3",
   "version": "3.10.5"
  },
  "vscode": {
   "interpreter": {
    "hash": "fb4569285eef3a3450cb62085a5b1e0da4bce0af555edc33dcf29baf3acc1368"
   }
  }
 },
 "nbformat": 4,
 "nbformat_minor": 5
}
